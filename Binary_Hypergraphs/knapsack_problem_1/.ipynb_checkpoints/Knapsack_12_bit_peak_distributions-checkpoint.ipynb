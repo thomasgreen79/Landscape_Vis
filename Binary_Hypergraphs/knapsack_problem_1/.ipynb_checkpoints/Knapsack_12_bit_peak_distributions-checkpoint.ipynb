{
 "cells": [
  {
   "cell_type": "code",
   "execution_count": 18,
   "metadata": {},
   "outputs": [
    {
     "name": "stderr",
     "output_type": "stream",
     "text": [
      "Loading tidyverse: ggplot2\n",
      "Loading tidyverse: tibble\n",
      "Loading tidyverse: tidyr\n",
      "Loading tidyverse: readr\n",
      "Loading tidyverse: purrr\n",
      "Loading tidyverse: dplyr\n",
      "Conflicts with tidy packages ---------------------------------------------------\n",
      "filter(): dplyr, stats\n",
      "lag():    dplyr, stats\n"
     ]
    }
   ],
   "source": [
    "library(tidyverse)"
   ]
  },
  {
   "cell_type": "code",
   "execution_count": 13,
   "metadata": {
    "collapsed": true
   },
   "outputs": [],
   "source": [
    "raw_data = read.csv(\"./data/knapsack_problem_12_bit_72_wt_data.csv\")"
   ]
  },
  {
   "cell_type": "code",
   "execution_count": 27,
   "metadata": {},
   "outputs": [
    {
     "data": {
      "text/html": [
       "<table>\n",
       "<thead><tr><th scope=col>id</th><th scope=col>eigencentrality</th><th scope=col>is_peak</th><th scope=col>eigenbin</th></tr></thead>\n",
       "<tbody>\n",
       "\t<tr><td> 0         </td><td>0.000000000</td><td>False      </td><td>[0,0.1)    </td></tr>\n",
       "\t<tr><td> 1         </td><td>0.004325714</td><td>False      </td><td>[0,0.1)    </td></tr>\n",
       "\t<tr><td> 2         </td><td>0.000000000</td><td>False      </td><td>[0,0.1)    </td></tr>\n",
       "\t<tr><td> 3         </td><td>0.013691882</td><td>False      </td><td>[0,0.1)    </td></tr>\n",
       "\t<tr><td> 4         </td><td>0.000000000</td><td>False      </td><td>[0,0.1)    </td></tr>\n",
       "\t<tr><td> 5         </td><td>0.004325714</td><td>False      </td><td>[0,0.1)    </td></tr>\n",
       "\t<tr><td> 6         </td><td>0.000000000</td><td>False      </td><td>[0,0.1)    </td></tr>\n",
       "\t<tr><td> 7         </td><td>0.013691882</td><td>False      </td><td>[0,0.1)    </td></tr>\n",
       "\t<tr><td> 8         </td><td>0.000000000</td><td>False      </td><td>[0,0.1)    </td></tr>\n",
       "\t<tr><td> 9         </td><td>0.004325714</td><td>False      </td><td>[0,0.1)    </td></tr>\n",
       "\t<tr><td>10         </td><td>0.000000000</td><td>False      </td><td>[0,0.1)    </td></tr>\n",
       "\t<tr><td>11         </td><td>0.013691882</td><td>False      </td><td>[0,0.1)    </td></tr>\n",
       "\t<tr><td>12         </td><td>0.000000000</td><td>False      </td><td>[0,0.1)    </td></tr>\n",
       "\t<tr><td>13         </td><td>0.004325714</td><td>False      </td><td>[0,0.1)    </td></tr>\n",
       "\t<tr><td>14         </td><td>0.000000000</td><td>False      </td><td>[0,0.1)    </td></tr>\n",
       "\t<tr><td>15         </td><td>0.013691882</td><td>False      </td><td>[0,0.1)    </td></tr>\n",
       "\t<tr><td>16         </td><td>0.000000000</td><td>False      </td><td>[0,0.1)    </td></tr>\n",
       "\t<tr><td>17         </td><td>0.004325714</td><td>False      </td><td>[0,0.1)    </td></tr>\n",
       "\t<tr><td>18         </td><td>0.000000000</td><td>False      </td><td>[0,0.1)    </td></tr>\n",
       "\t<tr><td>19         </td><td>0.030976753</td><td>False      </td><td>[0,0.1)    </td></tr>\n",
       "\t<tr><td>20         </td><td>0.000000000</td><td>False      </td><td>[0,0.1)    </td></tr>\n",
       "\t<tr><td>21         </td><td>0.004325714</td><td>False      </td><td>[0,0.1)    </td></tr>\n",
       "\t<tr><td>22         </td><td>0.000000000</td><td>False      </td><td>[0,0.1)    </td></tr>\n",
       "\t<tr><td>23         </td><td>0.030976753</td><td>False      </td><td>[0,0.1)    </td></tr>\n",
       "\t<tr><td>24         </td><td>0.000000000</td><td>False      </td><td>[0,0.1)    </td></tr>\n",
       "\t<tr><td>25         </td><td>0.004325714</td><td>False      </td><td>[0,0.1)    </td></tr>\n",
       "\t<tr><td>26         </td><td>0.000000000</td><td>False      </td><td>[0,0.1)    </td></tr>\n",
       "\t<tr><td>27         </td><td>0.030976753</td><td>False      </td><td>[0,0.1)    </td></tr>\n",
       "\t<tr><td>28         </td><td>0.000000000</td><td>False      </td><td>[0,0.1)    </td></tr>\n",
       "\t<tr><td>29         </td><td>0.004325714</td><td>False      </td><td>[0,0.1)    </td></tr>\n",
       "\t<tr><td>⋮</td><td>⋮</td><td>⋮</td><td>⋮</td></tr>\n",
       "\t<tr><td>4066       </td><td>0.000000000</td><td>False      </td><td>[0,0.1)    </td></tr>\n",
       "\t<tr><td>4067       </td><td>0.013691882</td><td>False      </td><td>[0,0.1)    </td></tr>\n",
       "\t<tr><td>4068       </td><td>0.000000000</td><td>False      </td><td>[0,0.1)    </td></tr>\n",
       "\t<tr><td>4069       </td><td>0.004325714</td><td>False      </td><td>[0,0.1)    </td></tr>\n",
       "\t<tr><td>4070       </td><td>0.000000000</td><td>False      </td><td>[0,0.1)    </td></tr>\n",
       "\t<tr><td>4071       </td><td>0.160661582</td><td>True       </td><td>[0.1,0.2)  </td></tr>\n",
       "\t<tr><td>4072       </td><td>0.000000000</td><td>False      </td><td>[0,0.1)    </td></tr>\n",
       "\t<tr><td>4073       </td><td>0.004325714</td><td>False      </td><td>[0,0.1)    </td></tr>\n",
       "\t<tr><td>4074       </td><td>0.000000000</td><td>False      </td><td>[0,0.1)    </td></tr>\n",
       "\t<tr><td>4075       </td><td>0.050434307</td><td>True       </td><td>[0,0.1)    </td></tr>\n",
       "\t<tr><td>4076       </td><td>0.000000000</td><td>False      </td><td>[0,0.1)    </td></tr>\n",
       "\t<tr><td>4077       </td><td>0.027380011</td><td>True       </td><td>[0,0.1)    </td></tr>\n",
       "\t<tr><td>4078       </td><td>0.000000000</td><td>False      </td><td>[0,0.1)    </td></tr>\n",
       "\t<tr><td>4079       </td><td>0.000000000</td><td>False      </td><td>[0,0.1)    </td></tr>\n",
       "\t<tr><td>4080       </td><td>0.000000000</td><td>False      </td><td>[0,0.1)    </td></tr>\n",
       "\t<tr><td>4081       </td><td>0.004325714</td><td>False      </td><td>[0,0.1)    </td></tr>\n",
       "\t<tr><td>4082       </td><td>0.000000000</td><td>False      </td><td>[0,0.1)    </td></tr>\n",
       "\t<tr><td>4083       </td><td>0.000000000</td><td>False      </td><td>[0,0.1)    </td></tr>\n",
       "\t<tr><td>4084       </td><td>0.000000000</td><td>False      </td><td>[0,0.1)    </td></tr>\n",
       "\t<tr><td>4085       </td><td>0.183715878</td><td>True       </td><td>[0.1,0.2)  </td></tr>\n",
       "\t<tr><td>4086       </td><td>0.012977143</td><td>False      </td><td>[0,0.1)    </td></tr>\n",
       "\t<tr><td>4087       </td><td>0.000000000</td><td>False      </td><td>[0,0.1)    </td></tr>\n",
       "\t<tr><td>4088       </td><td>0.000000000</td><td>False      </td><td>[0,0.1)    </td></tr>\n",
       "\t<tr><td>4089       </td><td>0.073488603</td><td>True       </td><td>[0,0.1)    </td></tr>\n",
       "\t<tr><td>4090       </td><td>0.000000000</td><td>False      </td><td>[0,0.1)    </td></tr>\n",
       "\t<tr><td>4091       </td><td>0.000000000</td><td>False      </td><td>[0,0.1)    </td></tr>\n",
       "\t<tr><td>4092       </td><td>0.000000000</td><td>False      </td><td>[0,0.1)    </td></tr>\n",
       "\t<tr><td>4093       </td><td>0.000000000</td><td>False      </td><td>[0,0.1)    </td></tr>\n",
       "\t<tr><td>4094       </td><td>0.659996874</td><td>True       </td><td>[0.6,0.7)  </td></tr>\n",
       "\t<tr><td>4095       </td><td>0.000000000</td><td>False      </td><td>[0,0.1)    </td></tr>\n",
       "</tbody>\n",
       "</table>\n"
      ],
      "text/latex": [
       "\\begin{tabular}{r|llll}\n",
       " id & eigencentrality & is\\_peak & eigenbin\\\\\n",
       "\\hline\n",
       "\t  0          & 0.000000000 & False       & {[}0,0.1)  \\\\\n",
       "\t  1          & 0.004325714 & False       & {[}0,0.1)  \\\\\n",
       "\t  2          & 0.000000000 & False       & {[}0,0.1)  \\\\\n",
       "\t  3          & 0.013691882 & False       & {[}0,0.1)  \\\\\n",
       "\t  4          & 0.000000000 & False       & {[}0,0.1)  \\\\\n",
       "\t  5          & 0.004325714 & False       & {[}0,0.1)  \\\\\n",
       "\t  6          & 0.000000000 & False       & {[}0,0.1)  \\\\\n",
       "\t  7          & 0.013691882 & False       & {[}0,0.1)  \\\\\n",
       "\t  8          & 0.000000000 & False       & {[}0,0.1)  \\\\\n",
       "\t  9          & 0.004325714 & False       & {[}0,0.1)  \\\\\n",
       "\t 10          & 0.000000000 & False       & {[}0,0.1)  \\\\\n",
       "\t 11          & 0.013691882 & False       & {[}0,0.1)  \\\\\n",
       "\t 12          & 0.000000000 & False       & {[}0,0.1)  \\\\\n",
       "\t 13          & 0.004325714 & False       & {[}0,0.1)  \\\\\n",
       "\t 14          & 0.000000000 & False       & {[}0,0.1)  \\\\\n",
       "\t 15          & 0.013691882 & False       & {[}0,0.1)  \\\\\n",
       "\t 16          & 0.000000000 & False       & {[}0,0.1)  \\\\\n",
       "\t 17          & 0.004325714 & False       & {[}0,0.1)  \\\\\n",
       "\t 18          & 0.000000000 & False       & {[}0,0.1)  \\\\\n",
       "\t 19          & 0.030976753 & False       & {[}0,0.1)  \\\\\n",
       "\t 20          & 0.000000000 & False       & {[}0,0.1)  \\\\\n",
       "\t 21          & 0.004325714 & False       & {[}0,0.1)  \\\\\n",
       "\t 22          & 0.000000000 & False       & {[}0,0.1)  \\\\\n",
       "\t 23          & 0.030976753 & False       & {[}0,0.1)  \\\\\n",
       "\t 24          & 0.000000000 & False       & {[}0,0.1)  \\\\\n",
       "\t 25          & 0.004325714 & False       & {[}0,0.1)  \\\\\n",
       "\t 26          & 0.000000000 & False       & {[}0,0.1)  \\\\\n",
       "\t 27          & 0.030976753 & False       & {[}0,0.1)  \\\\\n",
       "\t 28          & 0.000000000 & False       & {[}0,0.1)  \\\\\n",
       "\t 29          & 0.004325714 & False       & {[}0,0.1)  \\\\\n",
       "\t ⋮ & ⋮ & ⋮ & ⋮\\\\\n",
       "\t 4066        & 0.000000000 & False       & {[}0,0.1)  \\\\\n",
       "\t 4067        & 0.013691882 & False       & {[}0,0.1)  \\\\\n",
       "\t 4068        & 0.000000000 & False       & {[}0,0.1)  \\\\\n",
       "\t 4069        & 0.004325714 & False       & {[}0,0.1)  \\\\\n",
       "\t 4070        & 0.000000000 & False       & {[}0,0.1)  \\\\\n",
       "\t 4071        & 0.160661582 & True        & {[}0.1,0.2)\\\\\n",
       "\t 4072        & 0.000000000 & False       & {[}0,0.1)  \\\\\n",
       "\t 4073        & 0.004325714 & False       & {[}0,0.1)  \\\\\n",
       "\t 4074        & 0.000000000 & False       & {[}0,0.1)  \\\\\n",
       "\t 4075        & 0.050434307 & True        & {[}0,0.1)  \\\\\n",
       "\t 4076        & 0.000000000 & False       & {[}0,0.1)  \\\\\n",
       "\t 4077        & 0.027380011 & True        & {[}0,0.1)  \\\\\n",
       "\t 4078        & 0.000000000 & False       & {[}0,0.1)  \\\\\n",
       "\t 4079        & 0.000000000 & False       & {[}0,0.1)  \\\\\n",
       "\t 4080        & 0.000000000 & False       & {[}0,0.1)  \\\\\n",
       "\t 4081        & 0.004325714 & False       & {[}0,0.1)  \\\\\n",
       "\t 4082        & 0.000000000 & False       & {[}0,0.1)  \\\\\n",
       "\t 4083        & 0.000000000 & False       & {[}0,0.1)  \\\\\n",
       "\t 4084        & 0.000000000 & False       & {[}0,0.1)  \\\\\n",
       "\t 4085        & 0.183715878 & True        & {[}0.1,0.2)\\\\\n",
       "\t 4086        & 0.012977143 & False       & {[}0,0.1)  \\\\\n",
       "\t 4087        & 0.000000000 & False       & {[}0,0.1)  \\\\\n",
       "\t 4088        & 0.000000000 & False       & {[}0,0.1)  \\\\\n",
       "\t 4089        & 0.073488603 & True        & {[}0,0.1)  \\\\\n",
       "\t 4090        & 0.000000000 & False       & {[}0,0.1)  \\\\\n",
       "\t 4091        & 0.000000000 & False       & {[}0,0.1)  \\\\\n",
       "\t 4092        & 0.000000000 & False       & {[}0,0.1)  \\\\\n",
       "\t 4093        & 0.000000000 & False       & {[}0,0.1)  \\\\\n",
       "\t 4094        & 0.659996874 & True        & {[}0.6,0.7)\\\\\n",
       "\t 4095        & 0.000000000 & False       & {[}0,0.1)  \\\\\n",
       "\\end{tabular}\n"
      ],
      "text/markdown": [
       "\n",
       "id | eigencentrality | is_peak | eigenbin | \n",
       "|---|---|---|---|---|---|---|---|---|---|---|---|---|---|---|---|---|---|---|---|---|---|---|---|---|---|---|---|---|---|---|---|---|---|---|---|---|---|---|---|---|---|---|---|---|---|---|---|---|---|---|---|---|---|---|---|---|---|---|---|---|\n",
       "|  0          | 0.000000000 | False       | [0,0.1)     | \n",
       "|  1          | 0.004325714 | False       | [0,0.1)     | \n",
       "|  2          | 0.000000000 | False       | [0,0.1)     | \n",
       "|  3          | 0.013691882 | False       | [0,0.1)     | \n",
       "|  4          | 0.000000000 | False       | [0,0.1)     | \n",
       "|  5          | 0.004325714 | False       | [0,0.1)     | \n",
       "|  6          | 0.000000000 | False       | [0,0.1)     | \n",
       "|  7          | 0.013691882 | False       | [0,0.1)     | \n",
       "|  8          | 0.000000000 | False       | [0,0.1)     | \n",
       "|  9          | 0.004325714 | False       | [0,0.1)     | \n",
       "| 10          | 0.000000000 | False       | [0,0.1)     | \n",
       "| 11          | 0.013691882 | False       | [0,0.1)     | \n",
       "| 12          | 0.000000000 | False       | [0,0.1)     | \n",
       "| 13          | 0.004325714 | False       | [0,0.1)     | \n",
       "| 14          | 0.000000000 | False       | [0,0.1)     | \n",
       "| 15          | 0.013691882 | False       | [0,0.1)     | \n",
       "| 16          | 0.000000000 | False       | [0,0.1)     | \n",
       "| 17          | 0.004325714 | False       | [0,0.1)     | \n",
       "| 18          | 0.000000000 | False       | [0,0.1)     | \n",
       "| 19          | 0.030976753 | False       | [0,0.1)     | \n",
       "| 20          | 0.000000000 | False       | [0,0.1)     | \n",
       "| 21          | 0.004325714 | False       | [0,0.1)     | \n",
       "| 22          | 0.000000000 | False       | [0,0.1)     | \n",
       "| 23          | 0.030976753 | False       | [0,0.1)     | \n",
       "| 24          | 0.000000000 | False       | [0,0.1)     | \n",
       "| 25          | 0.004325714 | False       | [0,0.1)     | \n",
       "| 26          | 0.000000000 | False       | [0,0.1)     | \n",
       "| 27          | 0.030976753 | False       | [0,0.1)     | \n",
       "| 28          | 0.000000000 | False       | [0,0.1)     | \n",
       "| 29          | 0.004325714 | False       | [0,0.1)     | \n",
       "| ⋮ | ⋮ | ⋮ | ⋮ | \n",
       "| 4066        | 0.000000000 | False       | [0,0.1)     | \n",
       "| 4067        | 0.013691882 | False       | [0,0.1)     | \n",
       "| 4068        | 0.000000000 | False       | [0,0.1)     | \n",
       "| 4069        | 0.004325714 | False       | [0,0.1)     | \n",
       "| 4070        | 0.000000000 | False       | [0,0.1)     | \n",
       "| 4071        | 0.160661582 | True        | [0.1,0.2)   | \n",
       "| 4072        | 0.000000000 | False       | [0,0.1)     | \n",
       "| 4073        | 0.004325714 | False       | [0,0.1)     | \n",
       "| 4074        | 0.000000000 | False       | [0,0.1)     | \n",
       "| 4075        | 0.050434307 | True        | [0,0.1)     | \n",
       "| 4076        | 0.000000000 | False       | [0,0.1)     | \n",
       "| 4077        | 0.027380011 | True        | [0,0.1)     | \n",
       "| 4078        | 0.000000000 | False       | [0,0.1)     | \n",
       "| 4079        | 0.000000000 | False       | [0,0.1)     | \n",
       "| 4080        | 0.000000000 | False       | [0,0.1)     | \n",
       "| 4081        | 0.004325714 | False       | [0,0.1)     | \n",
       "| 4082        | 0.000000000 | False       | [0,0.1)     | \n",
       "| 4083        | 0.000000000 | False       | [0,0.1)     | \n",
       "| 4084        | 0.000000000 | False       | [0,0.1)     | \n",
       "| 4085        | 0.183715878 | True        | [0.1,0.2)   | \n",
       "| 4086        | 0.012977143 | False       | [0,0.1)     | \n",
       "| 4087        | 0.000000000 | False       | [0,0.1)     | \n",
       "| 4088        | 0.000000000 | False       | [0,0.1)     | \n",
       "| 4089        | 0.073488603 | True        | [0,0.1)     | \n",
       "| 4090        | 0.000000000 | False       | [0,0.1)     | \n",
       "| 4091        | 0.000000000 | False       | [0,0.1)     | \n",
       "| 4092        | 0.000000000 | False       | [0,0.1)     | \n",
       "| 4093        | 0.000000000 | False       | [0,0.1)     | \n",
       "| 4094        | 0.659996874 | True        | [0.6,0.7)   | \n",
       "| 4095        | 0.000000000 | False       | [0,0.1)     | \n",
       "\n",
       "\n"
      ],
      "text/plain": [
       "     id   eigencentrality is_peak eigenbin \n",
       "1     0   0.000000000     False   [0,0.1)  \n",
       "2     1   0.004325714     False   [0,0.1)  \n",
       "3     2   0.000000000     False   [0,0.1)  \n",
       "4     3   0.013691882     False   [0,0.1)  \n",
       "5     4   0.000000000     False   [0,0.1)  \n",
       "6     5   0.004325714     False   [0,0.1)  \n",
       "7     6   0.000000000     False   [0,0.1)  \n",
       "8     7   0.013691882     False   [0,0.1)  \n",
       "9     8   0.000000000     False   [0,0.1)  \n",
       "10    9   0.004325714     False   [0,0.1)  \n",
       "11   10   0.000000000     False   [0,0.1)  \n",
       "12   11   0.013691882     False   [0,0.1)  \n",
       "13   12   0.000000000     False   [0,0.1)  \n",
       "14   13   0.004325714     False   [0,0.1)  \n",
       "15   14   0.000000000     False   [0,0.1)  \n",
       "16   15   0.013691882     False   [0,0.1)  \n",
       "17   16   0.000000000     False   [0,0.1)  \n",
       "18   17   0.004325714     False   [0,0.1)  \n",
       "19   18   0.000000000     False   [0,0.1)  \n",
       "20   19   0.030976753     False   [0,0.1)  \n",
       "21   20   0.000000000     False   [0,0.1)  \n",
       "22   21   0.004325714     False   [0,0.1)  \n",
       "23   22   0.000000000     False   [0,0.1)  \n",
       "24   23   0.030976753     False   [0,0.1)  \n",
       "25   24   0.000000000     False   [0,0.1)  \n",
       "26   25   0.004325714     False   [0,0.1)  \n",
       "27   26   0.000000000     False   [0,0.1)  \n",
       "28   27   0.030976753     False   [0,0.1)  \n",
       "29   28   0.000000000     False   [0,0.1)  \n",
       "30   29   0.004325714     False   [0,0.1)  \n",
       "⋮    ⋮    ⋮               ⋮       ⋮        \n",
       "4067 4066 0.000000000     False   [0,0.1)  \n",
       "4068 4067 0.013691882     False   [0,0.1)  \n",
       "4069 4068 0.000000000     False   [0,0.1)  \n",
       "4070 4069 0.004325714     False   [0,0.1)  \n",
       "4071 4070 0.000000000     False   [0,0.1)  \n",
       "4072 4071 0.160661582     True    [0.1,0.2)\n",
       "4073 4072 0.000000000     False   [0,0.1)  \n",
       "4074 4073 0.004325714     False   [0,0.1)  \n",
       "4075 4074 0.000000000     False   [0,0.1)  \n",
       "4076 4075 0.050434307     True    [0,0.1)  \n",
       "4077 4076 0.000000000     False   [0,0.1)  \n",
       "4078 4077 0.027380011     True    [0,0.1)  \n",
       "4079 4078 0.000000000     False   [0,0.1)  \n",
       "4080 4079 0.000000000     False   [0,0.1)  \n",
       "4081 4080 0.000000000     False   [0,0.1)  \n",
       "4082 4081 0.004325714     False   [0,0.1)  \n",
       "4083 4082 0.000000000     False   [0,0.1)  \n",
       "4084 4083 0.000000000     False   [0,0.1)  \n",
       "4085 4084 0.000000000     False   [0,0.1)  \n",
       "4086 4085 0.183715878     True    [0.1,0.2)\n",
       "4087 4086 0.012977143     False   [0,0.1)  \n",
       "4088 4087 0.000000000     False   [0,0.1)  \n",
       "4089 4088 0.000000000     False   [0,0.1)  \n",
       "4090 4089 0.073488603     True    [0,0.1)  \n",
       "4091 4090 0.000000000     False   [0,0.1)  \n",
       "4092 4091 0.000000000     False   [0,0.1)  \n",
       "4093 4092 0.000000000     False   [0,0.1)  \n",
       "4094 4093 0.000000000     False   [0,0.1)  \n",
       "4095 4094 0.659996874     True    [0.6,0.7)\n",
       "4096 4095 0.000000000     False   [0,0.1)  "
      ]
     },
     "metadata": {},
     "output_type": "display_data"
    }
   ],
   "source": [
    "raw_data"
   ]
  },
  {
   "cell_type": "code",
   "execution_count": 15,
   "metadata": {
    "collapsed": true
   },
   "outputs": [],
   "source": [
    "raw_data$eigenbin <- cut(raw_data$eigencentrality, seq(0.0,1.1,0.1), right=FALSE)"
   ]
  },
  {
   "cell_type": "code",
   "execution_count": 24,
   "metadata": {},
   "outputs": [
    {
     "data": {},
     "metadata": {},
     "output_type": "display_data"
    },
    {
     "data": {
      "image/png": "[encoded data removed]",
      "text/plain": [
       "plot without title"
      ]
     },
     "metadata": {},
     "output_type": "display_data"
    }
   ],
   "source": [
    "raw_data %>%\n",
    "  ggplot(aes(x=eigencentrality, y=is_peak)) +\n",
    "  geom_point() "
   ]
  },
  {
   "cell_type": "code",
   "execution_count": 51,
   "metadata": {},
   "outputs": [],
   "source": [
    "peak_data = raw_data %>%\n",
    "    group_by(eigenbin) %>%\n",
    "    summarise(total_in_bin = n(), peak_counts = sum(is_peak == \"True\")) %>%\n",
    "    mutate(percent = peak_counts/total_in_bin)"
   ]
  },
  {
   "cell_type": "code",
   "execution_count": 52,
   "metadata": {},
   "outputs": [
    {
     "data": {
      "text/html": [
       "<table>\n",
       "<thead><tr><th scope=col>eigenbin</th><th scope=col>total_in_bin</th><th scope=col>peak_counts</th><th scope=col>percent</th></tr></thead>\n",
       "<tbody>\n",
       "\t<tr><td>[0,0.1)    </td><td>3983       </td><td> 7         </td><td>0.001757469</td></tr>\n",
       "\t<tr><td>[0.1,0.2)  </td><td>  69       </td><td> 6         </td><td>0.086956522</td></tr>\n",
       "\t<tr><td>[0.2,0.3)  </td><td>   8       </td><td> 4         </td><td>0.500000000</td></tr>\n",
       "\t<tr><td>[0.3,0.4)  </td><td>  14       </td><td>13         </td><td>0.928571429</td></tr>\n",
       "\t<tr><td>[0.4,0.5)  </td><td>   5       </td><td> 5         </td><td>1.000000000</td></tr>\n",
       "\t<tr><td>[0.5,0.6)  </td><td>   7       </td><td> 7         </td><td>1.000000000</td></tr>\n",
       "\t<tr><td>[0.6,0.7)  </td><td>   3       </td><td> 3         </td><td>1.000000000</td></tr>\n",
       "\t<tr><td>[0.7,0.8)  </td><td>   1       </td><td> 1         </td><td>1.000000000</td></tr>\n",
       "\t<tr><td>[0.8,0.9)  </td><td>   3       </td><td> 3         </td><td>1.000000000</td></tr>\n",
       "\t<tr><td>[0.9,1)    </td><td>   2       </td><td> 2         </td><td>1.000000000</td></tr>\n",
       "\t<tr><td>[1,1.1)    </td><td>   1       </td><td> 1         </td><td>1.000000000</td></tr>\n",
       "</tbody>\n",
       "</table>\n"
      ],
      "text/latex": [
       "\\begin{tabular}{r|llll}\n",
       " eigenbin & total\\_in\\_bin & peak\\_counts & percent\\\\\n",
       "\\hline\n",
       "\t {[}0,0.1)   & 3983        &  7          & 0.001757469\\\\\n",
       "\t {[}0.1,0.2) &   69        &  6          & 0.086956522\\\\\n",
       "\t {[}0.2,0.3) &    8        &  4          & 0.500000000\\\\\n",
       "\t {[}0.3,0.4) &   14        & 13          & 0.928571429\\\\\n",
       "\t {[}0.4,0.5) &    5        &  5          & 1.000000000\\\\\n",
       "\t {[}0.5,0.6) &    7        &  7          & 1.000000000\\\\\n",
       "\t {[}0.6,0.7) &    3        &  3          & 1.000000000\\\\\n",
       "\t {[}0.7,0.8) &    1        &  1          & 1.000000000\\\\\n",
       "\t {[}0.8,0.9) &    3        &  3          & 1.000000000\\\\\n",
       "\t {[}0.9,1)   &    2        &  2          & 1.000000000\\\\\n",
       "\t {[}1,1.1)   &    1        &  1          & 1.000000000\\\\\n",
       "\\end{tabular}\n"
      ],
      "text/markdown": [
       "\n",
       "eigenbin | total_in_bin | peak_counts | percent | \n",
       "|---|---|---|---|---|---|---|---|---|---|---|\n",
       "| [0,0.1)     | 3983        |  7          | 0.001757469 | \n",
       "| [0.1,0.2)   |   69        |  6          | 0.086956522 | \n",
       "| [0.2,0.3)   |    8        |  4          | 0.500000000 | \n",
       "| [0.3,0.4)   |   14        | 13          | 0.928571429 | \n",
       "| [0.4,0.5)   |    5        |  5          | 1.000000000 | \n",
       "| [0.5,0.6)   |    7        |  7          | 1.000000000 | \n",
       "| [0.6,0.7)   |    3        |  3          | 1.000000000 | \n",
       "| [0.7,0.8)   |    1        |  1          | 1.000000000 | \n",
       "| [0.8,0.9)   |    3        |  3          | 1.000000000 | \n",
       "| [0.9,1)     |    2        |  2          | 1.000000000 | \n",
       "| [1,1.1)     |    1        |  1          | 1.000000000 | \n",
       "\n",
       "\n"
      ],
      "text/plain": [
       "   eigenbin  total_in_bin peak_counts percent    \n",
       "1  [0,0.1)   3983          7          0.001757469\n",
       "2  [0.1,0.2)   69          6          0.086956522\n",
       "3  [0.2,0.3)    8          4          0.500000000\n",
       "4  [0.3,0.4)   14         13          0.928571429\n",
       "5  [0.4,0.5)    5          5          1.000000000\n",
       "6  [0.5,0.6)    7          7          1.000000000\n",
       "7  [0.6,0.7)    3          3          1.000000000\n",
       "8  [0.7,0.8)    1          1          1.000000000\n",
       "9  [0.8,0.9)    3          3          1.000000000\n",
       "10 [0.9,1)      2          2          1.000000000\n",
       "11 [1,1.1)      1          1          1.000000000"
      ]
     },
     "metadata": {},
     "output_type": "display_data"
    }
   ],
   "source": [
    "peak_data"
   ]
  },
  {
   "cell_type": "code",
   "execution_count": 38,
   "metadata": {},
   "outputs": [
    {
     "data": {},
     "metadata": {},
     "output_type": "display_data"
    },
    {
     "data": {
      "image/png": "[encoded data removed]",
      "text/plain": [
       "plot without title"
      ]
     },
     "metadata": {},
     "output_type": "display_data"
    }
   ],
   "source": [
    "peak_data %>%\n",
    "  ggplot(aes(x=eigenbin, y=peak_counts)) +\n",
    "  geom_point()"
   ]
  },
  {
   "cell_type": "code",
   "execution_count": 53,
   "metadata": {},
   "outputs": [
    {
     "data": {},
     "metadata": {},
     "output_type": "display_data"
    },
    {
     "data": {
      "image/png": "[encoded data removed]",
      "text/plain": [
       "plot without title"
      ]
     },
     "metadata": {},
     "output_type": "display_data"
    }
   ],
   "source": [
    "peak_data %>%\n",
    "  ggplot(aes(x=eigenbin, y=percent)) +\n",
    "  geom_point()"
   ]
  },
  {
   "cell_type": "code",
   "execution_count": null,
   "metadata": {
    "collapsed": true
   },
   "outputs": [],
   "source": []
  }
 ],
 "metadata": {
  "kernelspec": {
   "display_name": "R",
   "language": "R",
   "name": "ir"
  },
  "language_info": {
   "codemirror_mode": "r",
   "file_extension": ".r",
   "mimetype": "text/x-r-source",
   "name": "R",
   "pygments_lexer": "r",
   "version": "3.4.1"
  }
 },
 "nbformat": 4,
 "nbformat_minor": 2
}
